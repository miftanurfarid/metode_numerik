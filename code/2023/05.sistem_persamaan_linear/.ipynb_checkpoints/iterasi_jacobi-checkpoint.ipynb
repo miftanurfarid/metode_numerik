{
 "cells": [
  {
   "cell_type": "code",
   "execution_count": 1,
   "metadata": {},
   "outputs": [],
   "source": [
    "import numpy as np"
   ]
  },
  {
   "cell_type": "code",
   "execution_count": 2,
   "metadata": {},
   "outputs": [
    {
     "data": {
      "text/plain": [
       "array([[ 4.,  1.,  2., -1.],\n",
       "       [ 3.,  6., -1.,  2.],\n",
       "       [ 2., -1.,  5., -3.],\n",
       "       [ 4.,  1., -3., -8.]])"
      ]
     },
     "execution_count": 2,
     "metadata": {},
     "output_type": "execute_result"
    }
   ],
   "source": [
    "a = np.array([[4, 1, 2, -1],\n",
    "              [3, 6, -1, 2],\n",
    "              [2, -1, 5, -3],\n",
    "              [4, 1, -3, -8]],float)\n",
    "\n",
    "a"
   ]
  },
  {
   "cell_type": "code",
   "execution_count": 3,
   "metadata": {},
   "outputs": [
    {
     "data": {
      "text/plain": [
       "array([ 2., -1.,  3.,  2.])"
      ]
     },
     "execution_count": 3,
     "metadata": {},
     "output_type": "execute_result"
    }
   ],
   "source": [
    "b = np.array([2, -1, 3, 2], float)\n",
    "b"
   ]
  },
  {
   "cell_type": "code",
   "execution_count": 4,
   "metadata": {},
   "outputs": [
    {
     "data": {
      "text/plain": [
       "4"
      ]
     },
     "execution_count": 4,
     "metadata": {},
     "output_type": "execute_result"
    }
   ],
   "source": [
    "(n,) = np.shape(b)  # numpy array size function\n",
    "n"
   ]
  },
  {
   "cell_type": "code",
   "execution_count": 5,
   "metadata": {},
   "outputs": [
    {
     "data": {
      "text/plain": [
       "array([1., 1., 1., 1.])"
      ]
     },
     "execution_count": 5,
     "metadata": {},
     "output_type": "execute_result"
    }
   ],
   "source": [
    "x = np.full(n, 1, float)  # initial guess = 1.0\n",
    "x"
   ]
  },
  {
   "cell_type": "code",
   "execution_count": 6,
   "metadata": {},
   "outputs": [
    {
     "data": {
      "text/plain": [
       "array([1., 1., 1., 1.])"
      ]
     },
     "execution_count": 6,
     "metadata": {},
     "output_type": "execute_result"
    }
   ],
   "source": [
    "xnew = np.empty(n,float)  # construct xnew array\n",
    "xnew"
   ]
  },
  {
   "cell_type": "code",
   "execution_count": 7,
   "metadata": {},
   "outputs": [],
   "source": [
    "iterlimit = 100  # max number of iterations\n",
    "tolerance = 1.0e-6  # degree of accuracy"
   ]
  },
  {
   "cell_type": "code",
   "execution_count": 8,
   "metadata": {},
   "outputs": [
    {
     "name": "stdout",
     "output_type": "stream",
     "text": [
      "Number of iterations: 31\n",
      "The solution of the system:\n",
      "[ 0.3650067  -0.23378439  0.28506845 -0.20362079]\n"
     ]
    }
   ],
   "source": [
    "# Iterations\n",
    "for iteration in range(iterlimit):\n",
    "    #print(f\"\\niteration={iteration}\")\n",
    "    #print(x)\n",
    "    for i in range(n):\n",
    "        s = 0\n",
    "        for j in range(n):\n",
    "            if j != i:\n",
    "                s += a[i,j]*x[j]\n",
    "        xnew[i] = -1/a[i,i] * (s - b[i])\n",
    "\n",
    "    # convergence condition\n",
    "    if (abs(xnew - x) < tolerance).all():\n",
    "        break  # exit the loop\n",
    "    else:\n",
    "        x = np.copy(xnew)  # assign a copy of all xnew elements to x\n",
    "\n",
    "print('Number of iterations: %d' % (iteration+1))\n",
    "print('The solution of the system:')\n",
    "print(x)"
   ]
  },
  {
   "cell_type": "code",
   "execution_count": null,
   "metadata": {},
   "outputs": [],
   "source": []
  }
 ],
 "metadata": {
  "kernelspec": {
   "display_name": "Python 3 (ipykernel)",
   "language": "python",
   "name": "python3"
  },
  "language_info": {
   "codemirror_mode": {
    "name": "ipython",
    "version": 3
   },
   "file_extension": ".py",
   "mimetype": "text/x-python",
   "name": "python",
   "nbconvert_exporter": "python",
   "pygments_lexer": "ipython3",
   "version": "3.11.5"
  },
  "widgets": {
   "application/vnd.jupyter.widget-state+json": {
    "state": {},
    "version_major": 2,
    "version_minor": 0
   }
  }
 },
 "nbformat": 4,
 "nbformat_minor": 4
}
