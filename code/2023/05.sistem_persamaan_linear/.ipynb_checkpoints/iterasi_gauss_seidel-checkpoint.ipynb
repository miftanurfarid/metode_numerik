{
 "cells": [
  {
   "cell_type": "code",
   "execution_count": 20,
   "metadata": {},
   "outputs": [],
   "source": [
    "import numpy as np"
   ]
  },
  {
   "cell_type": "code",
   "execution_count": 21,
   "metadata": {},
   "outputs": [
    {
     "data": {
      "text/plain": [
       "array([[ 7.,  1.,  1.],\n",
       "       [-3.,  7., -1.],\n",
       "       [-2.,  5.,  9.]])"
      ]
     },
     "execution_count": 21,
     "metadata": {},
     "output_type": "execute_result"
    }
   ],
   "source": [
    "a = np.array([[7, 1, 1],\n",
    "              [-3, 7, -1],\n",
    "              [-2, 5, 9]],float)\n",
    "\n",
    "a"
   ]
  },
  {
   "cell_type": "code",
   "execution_count": 22,
   "metadata": {},
   "outputs": [
    {
     "data": {
      "text/plain": [
       "array([  6., -26.,   1.])"
      ]
     },
     "execution_count": 22,
     "metadata": {},
     "output_type": "execute_result"
    }
   ],
   "source": [
    "b = np.array([6, -26, 1], float)\n",
    "b"
   ]
  },
  {
   "cell_type": "code",
   "execution_count": 23,
   "metadata": {},
   "outputs": [
    {
     "data": {
      "text/plain": [
       "3"
      ]
     },
     "execution_count": 23,
     "metadata": {},
     "output_type": "execute_result"
    }
   ],
   "source": [
    "(n,) = np.shape(b)  # numpy array size function\n",
    "n"
   ]
  },
  {
   "cell_type": "code",
   "execution_count": 24,
   "metadata": {},
   "outputs": [
    {
     "data": {
      "text/plain": [
       "array([1., 1., 1.])"
      ]
     },
     "execution_count": 24,
     "metadata": {},
     "output_type": "execute_result"
    }
   ],
   "source": [
    "x = np.full(n, 1, float)  # initial guess = 1.0\n",
    "x"
   ]
  },
  {
   "cell_type": "code",
   "execution_count": 25,
   "metadata": {},
   "outputs": [
    {
     "data": {
      "text/plain": [
       "array([1., 1., 1.])"
      ]
     },
     "execution_count": 25,
     "metadata": {},
     "output_type": "execute_result"
    }
   ],
   "source": [
    "xdiff = np.empty(n, float)\n",
    "xdiff"
   ]
  },
  {
   "cell_type": "code",
   "execution_count": 26,
   "metadata": {},
   "outputs": [],
   "source": [
    "iterlimit = 100  # max number of iterations\n",
    "tolerance = 1.0e-6  # degree of accuracy"
   ]
  },
  {
   "cell_type": "code",
   "execution_count": 27,
   "metadata": {},
   "outputs": [
    {
     "name": "stdout",
     "output_type": "stream",
     "text": [
      "\n",
      "iteration=0\n",
      "[1. 1. 1.]\n",
      "\n",
      "iteration=1\n",
      "[ 0.57142857 -3.32653061  2.0861678 ]\n",
      "\n",
      "iteration=2\n",
      "[ 1.03433754 -2.97297422  1.99261625]\n",
      "\n",
      "iteration=3\n",
      "[ 0.997194   -3.00225739  2.00063055]\n",
      "\n",
      "iteration=4\n",
      "[ 1.00023241 -2.99981032  1.99994627]\n",
      "\n",
      "iteration=5\n",
      "[ 0.99998058 -3.000016    2.00000457]\n",
      "\n",
      "iteration=6\n",
      "[ 1.00000163 -2.99999865  1.99999961]\n",
      "\n",
      "iteration=7\n",
      "[ 0.99999986 -3.00000011  2.00000003]\n",
      "Number of iterations: 8\n",
      "The solution of the system:\n",
      "[ 1.00000001 -2.99999999  2.        ]\n"
     ]
    }
   ],
   "source": [
    "# Iterations\n",
    "for iteration in range(iterlimit):\n",
    "    print(f\"\\niteration={iteration}\")\n",
    "    print(x)\n",
    "    for i in range(n):\n",
    "        s = 0\n",
    "        for j in range(n):\n",
    "            if j != i:\n",
    "                s += a[i,j]*x[j]\n",
    "        xnew = -1/a[i,i] * (s - b[i])  # xnew is scalar\n",
    "        xdiff[i] = abs(xnew - x[i])  # compute the absolute difference\n",
    "        x[i] = xnew  # assign the new value to x[i]\n",
    "    if (xdiff < tolerance).all(): # check convergence of all equations\n",
    "        break\n",
    "\n",
    "print('Number of iterations: %d' % (iteration+1))\n",
    "print('The solution of the system:')\n",
    "print(x)"
   ]
  },
  {
   "cell_type": "code",
   "execution_count": null,
   "metadata": {},
   "outputs": [],
   "source": []
  }
 ],
 "metadata": {
  "kernelspec": {
   "display_name": "Python 3 (ipykernel)",
   "language": "python",
   "name": "python3"
  },
  "language_info": {
   "codemirror_mode": {
    "name": "ipython",
    "version": 3
   },
   "file_extension": ".py",
   "mimetype": "text/x-python",
   "name": "python",
   "nbconvert_exporter": "python",
   "pygments_lexer": "ipython3",
   "version": "3.11.5"
  },
  "widgets": {
   "application/vnd.jupyter.widget-state+json": {
    "state": {},
    "version_major": 2,
    "version_minor": 0
   }
  }
 },
 "nbformat": 4,
 "nbformat_minor": 4
}
