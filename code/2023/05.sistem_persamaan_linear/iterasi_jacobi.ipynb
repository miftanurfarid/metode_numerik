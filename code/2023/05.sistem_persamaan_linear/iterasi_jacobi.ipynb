{
 "cells": [
  {
   "cell_type": "code",
   "execution_count": 41,
   "metadata": {},
   "outputs": [],
   "source": [
    "import numpy as np"
   ]
  },
  {
   "cell_type": "code",
   "execution_count": 42,
   "metadata": {},
   "outputs": [
    {
     "data": {
      "text/plain": [
       "array([[ 7.,  1.,  1.],\n",
       "       [-3.,  7., -1.],\n",
       "       [-2.,  5.,  9.]])"
      ]
     },
     "execution_count": 42,
     "metadata": {},
     "output_type": "execute_result"
    }
   ],
   "source": [
    "a = np.array([[7, 1, 1],\n",
    "              [-3, 7, -1],\n",
    "              [-2, 5, 9]],float)\n",
    "\n",
    "a"
   ]
  },
  {
   "cell_type": "code",
   "execution_count": 43,
   "metadata": {},
   "outputs": [
    {
     "data": {
      "text/plain": [
       "array([  6., -26.,   1.])"
      ]
     },
     "execution_count": 43,
     "metadata": {},
     "output_type": "execute_result"
    }
   ],
   "source": [
    "b = np.array([6, -26, 1], float)\n",
    "b"
   ]
  },
  {
   "cell_type": "code",
   "execution_count": 44,
   "metadata": {},
   "outputs": [
    {
     "data": {
      "text/plain": [
       "3"
      ]
     },
     "execution_count": 44,
     "metadata": {},
     "output_type": "execute_result"
    }
   ],
   "source": [
    "(n,) = np.shape(b)  # numpy array size function\n",
    "n"
   ]
  },
  {
   "cell_type": "code",
   "execution_count": 45,
   "metadata": {},
   "outputs": [
    {
     "data": {
      "text/plain": [
       "array([1., 1., 1.])"
      ]
     },
     "execution_count": 45,
     "metadata": {},
     "output_type": "execute_result"
    }
   ],
   "source": [
    "x = np.full(n, 1, float)  # initial guess = 1.0\n",
    "x"
   ]
  },
  {
   "cell_type": "code",
   "execution_count": 46,
   "metadata": {},
   "outputs": [
    {
     "data": {
      "text/plain": [
       "array([1., 1., 1.])"
      ]
     },
     "execution_count": 46,
     "metadata": {},
     "output_type": "execute_result"
    }
   ],
   "source": [
    "xnew = np.empty(n,float)  # construct xnew array\n",
    "xnew"
   ]
  },
  {
   "cell_type": "code",
   "execution_count": 47,
   "metadata": {},
   "outputs": [],
   "source": [
    "iterlimit = 100  # max number of iterations\n",
    "tolerance = 1.0e-9  # degree of accuracy"
   ]
  },
  {
   "cell_type": "code",
   "execution_count": 48,
   "metadata": {},
   "outputs": [
    {
     "name": "stdout",
     "output_type": "stream",
     "text": [
      "\n",
      "iteration=0\n",
      "[1. 1. 1.]\n",
      "\n",
      "iteration=1\n",
      "[ 0.57142857 -3.14285714 -0.22222222]\n",
      "\n",
      "iteration=2\n",
      "[ 1.33786848 -3.50113379  1.98412698]\n",
      "\n",
      "iteration=3\n",
      "[ 1.07385811 -2.8574668   2.35348954]\n",
      "\n",
      "iteration=4\n",
      "[ 0.92913961 -2.91784802  1.9372278 ]\n",
      "\n",
      "iteration=5\n",
      "[ 0.99723146 -3.0393362   1.93861325]\n",
      "\n",
      "iteration=6\n",
      "[ 1.01438899 -3.00995605  2.02123821]\n",
      "\n",
      "iteration=7\n",
      "[ 0.99838826 -2.99079926  2.00872869]\n",
      "\n",
      "iteration=8\n",
      "[ 0.99743865 -2.99944379  1.99453031]\n",
      "\n",
      "iteration=9\n",
      "[ 1.00070192 -3.0018791   1.99912181]\n",
      "\n",
      "iteration=10\n",
      "[ 1.0003939  -2.99982463  2.00119993]\n",
      "\n",
      "iteration=11\n",
      "[ 0.99980353 -2.99965977  1.99999011]\n",
      "\n",
      "iteration=12\n",
      "[ 0.99995281 -3.00008562  1.99976732]\n",
      "\n",
      "iteration=13\n",
      "[ 1.00004547 -3.00005346  2.00003708]\n",
      "\n",
      "iteration=14\n",
      "[ 1.00000234 -2.99997522  2.00003981]\n",
      "\n",
      "iteration=15\n",
      "[ 0.99999077 -2.99999331  1.99998675]\n",
      "\n",
      "iteration=16\n",
      "[ 1.00000094 -3.00000585  1.99999423]\n",
      "\n",
      "iteration=17\n",
      "[ 1.00000166 -3.00000042  2.00000346]\n",
      "\n",
      "iteration=18\n",
      "[ 0.99999957 -2.9999988   2.0000006 ]\n",
      "\n",
      "iteration=19\n",
      "[ 0.99999974 -3.0000001   1.99999923]\n",
      "\n",
      "iteration=20\n",
      "[ 1.00000012 -3.00000022  2.        ]\n",
      "\n",
      "iteration=21\n",
      "[ 1.00000003 -2.99999995  2.00000015]\n",
      "\n",
      "iteration=22\n",
      "[ 0.99999997 -2.99999997  1.99999998]\n",
      "\n",
      "iteration=23\n",
      "[ 1.         -3.00000002  1.99999997]\n",
      "\n",
      "iteration=24\n",
      "[ 1.00000001 -3.          2.00000001]\n",
      "\n",
      "iteration=25\n",
      "[ 1. -3.  2.]\n",
      "\n",
      "iteration=26\n",
      "[ 1. -3.  2.]\n",
      "\n",
      "iteration=27\n",
      "[ 1. -3.  2.]\n",
      "Number of iterations: 28\n",
      "The solution of the system:\n",
      "[ 1. -3.  2.]\n"
     ]
    }
   ],
   "source": [
    "# Iterations\n",
    "for iteration in range(iterlimit):\n",
    "    print(f\"\\niteration={iteration}\")\n",
    "    print(x)\n",
    "    for i in range(n):\n",
    "        s = 0\n",
    "        for j in range(n):\n",
    "            if j != i:\n",
    "                s += a[i,j]*x[j]\n",
    "        xnew[i] = -1/a[i,i] * (s - b[i])\n",
    "\n",
    "    # convergence condition\n",
    "    if (abs(xnew - x) < tolerance).all():\n",
    "        break  # exit the loop\n",
    "    else:\n",
    "        x = np.copy(xnew)  # assign a copy of all xnew elements to x\n",
    "\n",
    "print('Number of iterations: %d' % (iteration+1))\n",
    "print('The solution of the system:')\n",
    "print(x)"
   ]
  },
  {
   "cell_type": "code",
   "execution_count": null,
   "metadata": {},
   "outputs": [],
   "source": []
  }
 ],
 "metadata": {
  "kernelspec": {
   "display_name": "Python 3 (ipykernel)",
   "language": "python",
   "name": "python3"
  },
  "language_info": {
   "codemirror_mode": {
    "name": "ipython",
    "version": 3
   },
   "file_extension": ".py",
   "mimetype": "text/x-python",
   "name": "python",
   "nbconvert_exporter": "python",
   "pygments_lexer": "ipython3",
   "version": "3.11.5"
  },
  "widgets": {
   "application/vnd.jupyter.widget-state+json": {
    "state": {},
    "version_major": 2,
    "version_minor": 0
   }
  }
 },
 "nbformat": 4,
 "nbformat_minor": 4
}
