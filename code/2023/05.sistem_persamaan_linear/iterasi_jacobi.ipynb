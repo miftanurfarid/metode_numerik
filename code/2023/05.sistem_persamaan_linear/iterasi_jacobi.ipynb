{
 "cells": [
  {
   "cell_type": "code",
   "execution_count": 1,
   "metadata": {},
   "outputs": [],
   "source": [
    "import numpy as np"
   ]
  },
  {
   "cell_type": "code",
   "execution_count": 6,
   "metadata": {},
   "outputs": [
    {
     "data": {
      "text/plain": [
       "array([[ 4.,  1.,  2., -1.],\n",
       "       [ 3.,  6., -1.,  2.],\n",
       "       [ 2., -1.,  5., -3.],\n",
       "       [ 4.,  1., -3., -8.]])"
      ]
     },
     "execution_count": 6,
     "metadata": {},
     "output_type": "execute_result"
    }
   ],
   "source": [
    "a = np.array([[4, 1, 2, -1],\n",
    "              [3, 6, -1, 2],\n",
    "              [2, -1, 5, -3],\n",
    "              [4, 1, -3, -8]],float)\n",
    "\n",
    "a"
   ]
  },
  {
   "cell_type": "code",
   "execution_count": 7,
   "metadata": {},
   "outputs": [
    {
     "data": {
      "text/plain": [
       "array([ 2., -1.,  3.,  2.])"
      ]
     },
     "execution_count": 7,
     "metadata": {},
     "output_type": "execute_result"
    }
   ],
   "source": [
    "b = np.array([2, -1, 3, 2], float)\n",
    "b"
   ]
  },
  {
   "cell_type": "code",
   "execution_count": 8,
   "metadata": {},
   "outputs": [
    {
     "data": {
      "text/plain": [
       "4"
      ]
     },
     "execution_count": 8,
     "metadata": {},
     "output_type": "execute_result"
    }
   ],
   "source": [
    "(n,) = np.shape(b)  # numpy array size function\n",
    "n"
   ]
  },
  {
   "cell_type": "code",
   "execution_count": 20,
   "metadata": {},
   "outputs": [
    {
     "data": {
      "text/plain": [
       "array([1., 1., 1., 1.])"
      ]
     },
     "execution_count": 20,
     "metadata": {},
     "output_type": "execute_result"
    }
   ],
   "source": [
    "x = np.full(n, 1, float)  # initial guess = 1.0\n",
    "x"
   ]
  },
  {
   "cell_type": "code",
   "execution_count": 21,
   "metadata": {},
   "outputs": [
    {
     "data": {
      "text/plain": [
       "array([1., 1., 1., 1.])"
      ]
     },
     "execution_count": 21,
     "metadata": {},
     "output_type": "execute_result"
    }
   ],
   "source": [
    "xnew = np.empty(n,float)  # construct xnew array\n",
    "xnew"
   ]
  },
  {
   "cell_type": "code",
   "execution_count": 22,
   "metadata": {},
   "outputs": [],
   "source": [
    "iterlimit = 100  # max number of iterations\n",
    "tolerance = 1.0e-6  # degree of accuracy"
   ]
  },
  {
   "cell_type": "code",
   "execution_count": 23,
   "metadata": {},
   "outputs": [
    {
     "name": "stdout",
     "output_type": "stream",
     "text": [
      "\n",
      "iteration=0\n",
      "[1. 1. 1. 1.]\n",
      "\n",
      "iteration=1\n",
      "[-0.         -0.83333333  1.          0.        ]\n",
      "\n",
      "iteration=2\n",
      "[ 0.20833333 -0.          0.43333333 -0.72916667]\n",
      "\n",
      "iteration=3\n",
      "[ 0.10104167  0.04444444  0.07916667 -0.30833333]\n",
      "\n",
      "iteration=4\n",
      "[ 0.37222222 -0.10121528  0.38347222 -0.22361111]\n",
      "\n",
      "iteration=5\n",
      "[ 0.27766493 -0.2143287   0.29670139 -0.22034288]\n",
      "\n",
      "iteration=6\n",
      "[ 0.35014576 -0.18260127  0.31386256 -0.24922164]\n",
      "\n",
      "iteration=7\n",
      "[ 0.32641363 -0.20635524  0.27388845 -0.21545074]\n",
      "\n",
      "iteration=8\n",
      "[ 0.3607819  -0.21240849  0.29889306 -0.21529576]\n",
      "\n",
      "iteration=9\n",
      "[ 0.34983165 -0.22547685  0.28402809 -0.20824501]\n",
      "\n",
      "iteration=10\n",
      "[ 0.36229392 -0.22482948  0.29002496 -0.20977931]\n",
      "\n",
      "iteration=11\n",
      "[ 0.35875006 -0.22954969  0.28424895 -0.20571609]\n",
      "\n",
      "iteration=12\n",
      "[ 0.36383393 -0.23009484  0.28716039 -0.20591204]\n",
      "\n",
      "iteration=13\n",
      "[ 0.36246551 -0.23208622  0.28490024 -0.20453004]\n",
      "\n",
      "iteration=14\n",
      "[ 0.36443893 -0.23223937  0.28587853 -0.20461561]\n",
      "\n",
      "iteration=15\n",
      "[ 0.36396667 -0.2330345   0.28500719 -0.20401491]\n",
      "\n",
      "iteration=16\n",
      "[ 0.36475131 -0.23314384  0.28539749 -0.20402367]\n",
      "\n",
      "iteration=17\n",
      "[ 0.3645813  -0.23346818  0.28505651 -0.20379138]\n",
      "\n",
      "iteration=18\n",
      "[ 0.36489095 -0.23351744  0.28519901 -0.20378906]\n",
      "\n",
      "iteration=19\n",
      "[ 0.36483259 -0.23364928  0.2850667  -0.20369384]\n",
      "\n",
      "iteration=20\n",
      "[ 0.36495551 -0.2336739   0.28512081 -0.20368988]\n",
      "\n",
      "iteration=21\n",
      "[ 0.3649356  -0.23372766  0.28506909 -0.20365178]\n",
      "\n",
      "iteration=22\n",
      "[ 0.36498443 -0.23373903  0.28508916 -0.20364907]\n",
      "\n",
      "iteration=23\n",
      "[ 0.36497791 -0.233761    0.28506899 -0.2036336 ]\n",
      "\n",
      "iteration=24\n",
      "[ 0.36499736 -0.23376626  0.28507648 -0.20363204]\n",
      "\n",
      "iteration=25\n",
      "[ 0.36499532 -0.23377525  0.28506858 -0.20362578]\n",
      "\n",
      "iteration=26\n",
      "[ 0.36500308 -0.23377763  0.28507135 -0.20362497]\n",
      "\n",
      "iteration=27\n",
      "[ 0.36500249 -0.23378132  0.28506826 -0.20362242]\n",
      "\n",
      "iteration=28\n",
      "[ 0.36500559 -0.23378239  0.28506929 -0.20362202]\n",
      "\n",
      "iteration=29\n",
      "[ 0.36500545 -0.23378391  0.28506807 -0.20362098]\n",
      "\n",
      "iteration=30\n",
      "[ 0.3650067  -0.23378439  0.28506845 -0.20362079]\n",
      "Number of iterations: 31\n",
      "The solution of the system:\n",
      "[ 0.3650067  -0.23378439  0.28506845 -0.20362079]\n"
     ]
    }
   ],
   "source": [
    "# Iterations\n",
    "for iteration in range(iterlimit):\n",
    "    print(f\"\\niteration={iteration}\")\n",
    "    print(x)\n",
    "    for i in range(n):\n",
    "        s = 0\n",
    "        for j in range(n):\n",
    "            if j != i:\n",
    "                s += a[i,j]*x[j]\n",
    "        xnew[i] = -1/a[i,i] * (s - b[i])\n",
    "\n",
    "    # convergence condition\n",
    "    if (abs(xnew - x) < tolerance).all():\n",
    "        break  # exit the loop\n",
    "    else:\n",
    "        x = np.copy(xnew)  # assign a copy of all xnew elements to x\n",
    "\n",
    "print('Number of iterations: %d' % (iteration+1))\n",
    "print('The solution of the system:')\n",
    "print(x)"
   ]
  },
  {
   "cell_type": "code",
   "execution_count": null,
   "metadata": {},
   "outputs": [],
   "source": []
  }
 ],
 "metadata": {
  "kernelspec": {
   "display_name": "venv311",
   "language": "python",
   "name": "python3"
  },
  "language_info": {
   "codemirror_mode": {
    "name": "ipython",
    "version": 3
   },
   "file_extension": ".py",
   "mimetype": "text/x-python",
   "name": "python",
   "nbconvert_exporter": "python",
   "pygments_lexer": "ipython3",
   "version": "3.11.5"
  }
 },
 "nbformat": 4,
 "nbformat_minor": 2
}
