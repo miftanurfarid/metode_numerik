{
 "cells": [
  {
   "cell_type": "markdown",
   "metadata": {},
   "source": [
    "# Euler's Method"
   ]
  },
  {
   "cell_type": "markdown",
   "metadata": {},
   "source": [
    "**Equation:**\n",
    "\n",
    "Find the numerical solution of the following differential equation over the domain $[0, 2]$.\n",
    "\n",
    "$$ y' = xy,~~y(0) = 1 $$\n",
    "\n",
    "_note:_\n",
    "_analytical solution:_ $y = e^{x^2/2}$"
   ]
  },
  {
   "cell_type": "markdown",
   "metadata": {},
   "source": [
    "**Solution:**\n",
    "\n",
    "The numerical solution can be programmed by a single for-loop of $x$ with increment of $h$. In the beginning, define the given equation in an inline function and suppose $h = 0.5$."
   ]
  },
  {
   "cell_type": "code",
   "execution_count": 6,
   "metadata": {},
   "outputs": [
    {
     "name": "stdout",
     "output_type": "stream",
     "text": [
      "x \t\t y (Euler)\n",
      "0.000000 \t 1.000000\n",
      "0.500000 \t 1.000000\n",
      "1.000000 \t 1.250000\n",
      "1.500000 \t 1.875000\n",
      "2.000000 \t 3.281250\n"
     ]
    }
   ],
   "source": [
    "dy = lambda x,y: x*y  # dy = function(x, y)\n",
    "x = 0  # initial value of x\n",
    "xn = 2  # final value of x\n",
    "y = 1  # value of y(x0)\n",
    "h = 0.5  # step size\n",
    "n = int((xn-x)/h) # total number of steps\n",
    "\n",
    "print ('x \\t\\t y (Euler)')  # data table header\n",
    "\n",
    "print ('%f \\t %f'% (x,y))  # tabular format output\n",
    "\n",
    "for i in range(n):\n",
    "    y += dy(x, y)*h  # calculate next y\n",
    "    x += h  # x increment\n",
    "    print ('%f \\t %f'% (x,y))"
   ]
  },
  {
   "cell_type": "markdown",
   "metadata": {},
   "source": [
    "In order to compare the numerical values with the corresponding analytical ones for this example, the analytical solution can be added to the code as following:"
   ]
  },
  {
   "cell_type": "code",
   "execution_count": 9,
   "metadata": {},
   "outputs": [
    {
     "name": "stdout",
     "output_type": "stream",
     "text": [
      "x \t\t y (Euler) \t y (analytical)\n",
      "0.000000 \t 1.000000 \t 1.000000\n",
      "0.100000 \t 1.000000 \t 1.005013\n",
      "0.200000 \t 1.010000 \t 1.020201\n",
      "0.300000 \t 1.030200 \t 1.046028\n",
      "0.400000 \t 1.061106 \t 1.083287\n",
      "0.500000 \t 1.103550 \t 1.133148\n",
      "0.600000 \t 1.158728 \t 1.197217\n",
      "0.700000 \t 1.228251 \t 1.277621\n",
      "0.800000 \t 1.314229 \t 1.377128\n",
      "0.900000 \t 1.419367 \t 1.499303\n",
      "1.000000 \t 1.547110 \t 1.648721\n",
      "1.100000 \t 1.701821 \t 1.831252\n",
      "1.200000 \t 1.889022 \t 2.054433\n",
      "1.300000 \t 2.115704 \t 2.327978\n",
      "1.400000 \t 2.390746 \t 2.664456\n",
      "1.500000 \t 2.725450 \t 3.080217\n",
      "1.600000 \t 3.134268 \t 3.596640\n",
      "1.700000 \t 3.635751 \t 4.241852\n",
      "1.800000 \t 4.253829 \t 5.053090\n",
      "1.900000 \t 5.019518 \t 6.079971\n",
      "2.000000 \t 5.973226 \t 7.389056\n"
     ]
    }
   ],
   "source": [
    "from math import exp # exponential function\n",
    "\n",
    "dy = lambda x,y: x*y\n",
    "f = lambda x: exp(x**2/2)  # analytical solution function\n",
    "x = 0\n",
    "xn = 2\n",
    "y = 1\n",
    "h = 0.5\n",
    "n = int((xn-x)/h)\n",
    "\n",
    "print ('x \\t\\t y (Euler) \\t y (analytical)')\n",
    "print ('%f \\t %f \\t %f'% (x,y,f(x)))\n",
    "\n",
    "for i in range(n):\n",
    "    y += dy(x, y)*h\n",
    "    x += h\n",
    "    print ('%f \\t %f \\t %f'% (x,y,f(x)))"
   ]
  },
  {
   "cell_type": "code",
   "execution_count": null,
   "metadata": {},
   "outputs": [],
   "source": []
  }
 ],
 "metadata": {
  "kernelspec": {
   "display_name": "venv311",
   "language": "python",
   "name": "python3"
  },
  "language_info": {
   "codemirror_mode": {
    "name": "ipython",
    "version": 3
   },
   "file_extension": ".py",
   "mimetype": "text/x-python",
   "name": "python",
   "nbconvert_exporter": "python",
   "pygments_lexer": "ipython3",
   "version": "3.11.5"
  }
 },
 "nbformat": 4,
 "nbformat_minor": 2
}
