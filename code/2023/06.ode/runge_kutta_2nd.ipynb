{
 "cells": [
  {
   "cell_type": "markdown",
   "metadata": {},
   "source": [
    "# Second-Order Runge-Kutta Method"
   ]
  },
  {
   "cell_type": "markdown",
   "metadata": {},
   "source": [
    "Runge-Kutta (RK) methods are derived from the Taylor series with including the higher derivatives in approximation. The second-order RK method include the second derivative approximation in the following manner.\n",
    "\n",
    "$$ y(x+h) = y(x) + y'(x + \\frac{h}{2}, y + \\frac{h}{2} y′(x, y)) h $$"
   ]
  },
  {
   "cell_type": "code",
   "execution_count": null,
   "metadata": {},
   "outputs": [],
   "source": []
  }
 ],
 "metadata": {
  "language_info": {
   "name": "python"
  }
 },
 "nbformat": 4,
 "nbformat_minor": 2
}
