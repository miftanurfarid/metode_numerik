{
 "cells": [
  {
   "cell_type": "code",
   "execution_count": 4,
   "metadata": {},
   "outputs": [
    {
     "name": "stdout",
     "output_type": "stream",
     "text": [
      "iter. \t x1 \t x2 \t |x2-x1|\n",
      "1 \t 0 \t -1.5 \t 1.5\n",
      "2 \t -1.5 \t -1.05 \t 0.45\n",
      "3 \t -1.05 \t -1.0 \t 0.0494\n",
      "4 \t -1.0 \t -1.0 \t 0.0006\n",
      "5 \t -1.0 \t -1.0 \t 0.0\n"
     ]
    }
   ],
   "source": [
    "import numpy as np\n",
    "\n",
    "f  = lambda x: x**2 - 2*x - 3\n",
    "df = lambda x: 2*x - 2\n",
    "\n",
    "x1 = 0\n",
    "eps = 1e-7\n",
    "\n",
    "print(f\"iter. \\t x1 \\t x2 \\t |x2-x1|\")\n",
    "for i in range(100):\n",
    "    x2 = x1 - f(x1)/df(x1)\n",
    "    \n",
    "    print(f\"{i+1} \\t {np.round(x1,2)} \\t {np.round(x2,2)} \\t {np.round(abs(x2 - x1),4)}\")\n",
    "\n",
    "    if abs(x2 - x1) <= eps:\n",
    "        break\n",
    "    else:\n",
    "        x1 = x2"
   ]
  },
  {
   "cell_type": "code",
   "execution_count": 5,
   "metadata": {},
   "outputs": [
    {
     "name": "stdout",
     "output_type": "stream",
     "text": [
      "iter. \t x1 \t x2 \t |x2-x1|\n",
      "1 \t 2 \t 3.5 \t 1.5\n",
      "2 \t 3.5 \t 3.05 \t 0.45\n",
      "3 \t 3.05 \t 3.0 \t 0.0494\n",
      "4 \t 3.0 \t 3.0 \t 0.0006\n",
      "5 \t 3.0 \t 3.0 \t 0.0\n"
     ]
    }
   ],
   "source": [
    "import numpy as np\n",
    "\n",
    "f  = lambda x: x**2 - 2*x - 3\n",
    "df = lambda x: 2*x - 2\n",
    "\n",
    "x1 = 2\n",
    "eps = 1e-7\n",
    "\n",
    "print(f\"iter. \\t x1 \\t x2 \\t |x2-x1|\")\n",
    "for i in range(100):\n",
    "    x2 = x1 - f(x1)/df(x1)\n",
    "    \n",
    "    print(f\"{i+1} \\t {np.round(x1,2)} \\t {np.round(x2,2)} \\t {np.round(abs(x2 - x1),4)}\")\n",
    "\n",
    "    if abs(x2 - x1) <= eps:\n",
    "        break\n",
    "    else:\n",
    "        x1 = x2"
   ]
  },
  {
   "cell_type": "code",
   "execution_count": 6,
   "metadata": {},
   "outputs": [
    {
     "name": "stdout",
     "output_type": "stream",
     "text": [
      "iter. \t x1 \t x2 \t |x2-x1|\n",
      "1 \t 3 \t 3.0 \t 0.0\n"
     ]
    }
   ],
   "source": [
    "import numpy as np\n",
    "\n",
    "f  = lambda x: x**2 - 2*x - 3\n",
    "df = lambda x: 2*x - 2\n",
    "\n",
    "x1 = 3\n",
    "eps = 1e-7\n",
    "\n",
    "print(f\"iter. \\t x1 \\t x2 \\t |x2-x1|\")\n",
    "for i in range(100):\n",
    "    x2 = x1 - f(x1)/df(x1)\n",
    "    \n",
    "    print(f\"{i+1} \\t {np.round(x1,2)} \\t {np.round(x2,2)} \\t {np.round(abs(x2 - x1),4)}\")\n",
    "\n",
    "    if abs(x2 - x1) <= eps:\n",
    "        break\n",
    "    else:\n",
    "        x1 = x2"
   ]
  },
  {
   "cell_type": "code",
   "execution_count": null,
   "metadata": {},
   "outputs": [],
   "source": []
  }
 ],
 "metadata": {
  "kernelspec": {
   "display_name": "venv311",
   "language": "python",
   "name": "python3"
  },
  "language_info": {
   "codemirror_mode": {
    "name": "ipython",
    "version": 3
   },
   "file_extension": ".py",
   "mimetype": "text/x-python",
   "name": "python",
   "nbconvert_exporter": "python",
   "pygments_lexer": "ipython3",
   "version": "3.11.5"
  }
 },
 "nbformat": 4,
 "nbformat_minor": 2
}
